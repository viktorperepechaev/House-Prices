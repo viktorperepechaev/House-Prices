{
 "cells": [
  {
   "cell_type": "code",
   "execution_count": null,
   "id": "a2feddeb-eab5-421b-95ed-4708882f794b",
   "metadata": {},
   "outputs": [],
   "source": [
    "import pandas as pd\n",
    "import seaborn as sns\n",
    "import matplotlib.pyplot as plt\n",
    "!pip install catboost"
   ]
  },
  {
   "cell_type": "markdown",
   "id": "cf3236a8-5218-4114-a795-e09a04d6c162",
   "metadata": {},
   "source": [
    "Считываем данные"
   ]
  },
  {
   "cell_type": "code",
   "execution_count": null,
   "id": "58bade88-c1ea-4823-8a7f-c3b0c250b6b4",
   "metadata": {},
   "outputs": [],
   "source": [
    "data_train = pd.read_csv('train.csv')\n",
    "data_test = pd.read_csv('test.csv')\n",
    "display(data_train, data_test)"
   ]
  },
  {
   "cell_type": "markdown",
   "id": "bac34b52-2be4-402b-9012-e5126ca2fd28",
   "metadata": {},
   "source": [
    "Создаём функции, которые из общего массива данных будут восстанавливать тренировочный датасет и датасет для предсказаний."
   ]
  },
  {
   "cell_type": "code",
   "execution_count": null,
   "id": "24f482d9-55c0-4b05-8d1c-cf93a5c62670",
   "metadata": {},
   "outputs": [],
   "source": [
    "def get_train(df):\n",
    "    return df[df['Id'] <= 1460]\n",
    "def get_test(df):\n",
    "    return df[df['Id'] > 1460]"
   ]
  },
  {
   "cell_type": "markdown",
   "id": "cb3923c7-f2b3-43c1-8646-d3b8af21c4b4",
   "metadata": {},
   "source": [
    "Склеиваем данные для более простой обработки."
   ]
  },
  {
   "cell_type": "code",
   "execution_count": null,
   "id": "aea97797-93d0-4705-a340-40086862b6f1",
   "metadata": {},
   "outputs": [],
   "source": [
    "df = pd.concat([data_train, data_test], axis=0)\n",
    "df"
   ]
  },
  {
   "cell_type": "markdown",
   "id": "8799f12f-9a7b-4ef6-bf6d-d5073c96ecf9",
   "metadata": {},
   "source": [
    "Если FireplaceQu = NaN, то это означает, что у нас FireplaceQu = 0, следовательно FireplaceQu должно быть равно NA."
   ]
  },
  {
   "cell_type": "code",
   "execution_count": null,
   "id": "8e0721fc-8952-4ec2-8152-b780a43ffa8e",
   "metadata": {},
   "outputs": [],
   "source": [
    "df['FireplaceQu'] = df['FireplaceQu'].fillna('NA')"
   ]
  },
  {
   "cell_type": "markdown",
   "id": "aedc2dd4-265b-44a8-b032-687efc015e50",
   "metadata": {},
   "source": [
    "В колонке Alley слишком много пропущенных значений."
   ]
  },
  {
   "cell_type": "code",
   "execution_count": null,
   "id": "6d0c214d-0e51-41c1-bf84-a007c2021476",
   "metadata": {},
   "outputs": [],
   "source": [
    "df = df.drop(columns=['Alley'])"
   ]
  },
  {
   "cell_type": "markdown",
   "id": "e41353b4-f83e-4588-9c4e-f12e78a5db34",
   "metadata": {},
   "source": [
    "По какой-то причине, в df['MSZoning'] стоит не 'C', а 'C (all)'.\n",
    "\n",
    "RL - самый частый вариант"
   ]
  },
  {
   "cell_type": "code",
   "execution_count": null,
   "id": "eb04cd49-ad55-4bc9-acf2-177cc5e66b5d",
   "metadata": {},
   "outputs": [],
   "source": [
    "df['MSZoning'] = df['MSZoning'].replace(['C (all)'], 'C')\n",
    "df['MSZoning'] = df['MSZoning'].fillna('RL')"
   ]
  },
  {
   "cell_type": "code",
   "execution_count": null,
   "id": "701c7fb6-0d45-4943-a1d2-a6886774b0f6",
   "metadata": {},
   "outputs": [],
   "source": [
    "# !!! Возможно стоит заменить не на .mean(), а на 0\n",
    "df['LotFrontage'] = df['LotFrontage'].fillna(df[~df['LotFrontage'].isna()]['LotFrontage'].mean())"
   ]
  },
  {
   "cell_type": "code",
   "execution_count": null,
   "id": "e48e2436-1751-4308-bdb0-d7bda9f8247c",
   "metadata": {},
   "outputs": [],
   "source": [
    "# !!! Возможно стоит удалить столбец, так как практически все значения одинаковые\n",
    "df['Utilities'] = df['Utilities'].fillna('AllPub')"
   ]
  },
  {
   "cell_type": "code",
   "execution_count": null,
   "id": "cf1f9cd8-b118-41a7-b92c-9b9ef782069c",
   "metadata": {},
   "outputs": [],
   "source": [
    "df['Exterior1st'] = df['Exterior1st'].fillna('VinylSd')\n",
    "df['Exterior2nd'] = df['Exterior2nd'].fillna('VinylSd')"
   ]
  },
  {
   "cell_type": "code",
   "execution_count": null,
   "id": "d22f8c40-8fb7-426e-9a43-a5e6d45b6ea4",
   "metadata": {},
   "outputs": [],
   "source": [
    "df.loc[df['MasVnrArea'] == 0, 'MasVnrType'] = 'None'\n",
    "df['MasVnrType'] = df['MasVnrType'].fillna('None')\n",
    "df['MasVnrArea'] = df['MasVnrArea'].fillna(0)"
   ]
  },
  {
   "cell_type": "code",
   "execution_count": null,
   "id": "3e864a0b-838a-4982-87ae-c1934abd26eb",
   "metadata": {},
   "outputs": [],
   "source": [
    "df.loc[df['TotalBsmtSF'] == 0, 'BsmtQual'] = 'NA'\n",
    "df.loc[df['TotalBsmtSF'] == 0, 'BsmtCond'] = 'NA'\n",
    "df.loc[df['TotalBsmtSF'] == 0, 'BsmtExposure'] = 'NA'\n",
    "df.loc[df['TotalBsmtSF'] == 0, 'BsmtFinType1'] = 'NA'\n",
    "df.loc[df['TotalBsmtSF'] == 0, 'BsmtFinType2'] = 'NA'\n",
    "\n",
    "df['BsmtQual'] = df['BsmtQual'].fillna('TA')\n",
    "df['BsmtCond'] = df['BsmtCond'].fillna('TA')\n",
    "df['BsmtExposure'] = df['BsmtExposure'].fillna('No')\n",
    "df['BsmtFinType1'] = df['BsmtFinType1'].fillna('Unf')\n",
    "df['BsmtFinType2'] = df['BsmtFinType2'].fillna('Unf')\n",
    "df['BsmtFinSF1'] = df['BsmtFinSF1'].fillna(df['BsmtFinSF1'].mean())\n",
    "df['BsmtFinSF2'] = df['BsmtFinSF2'].fillna(df['BsmtFinSF2'].mean())\n",
    "df['BsmtUnfSF'] = df['BsmtUnfSF'].fillna(df['BsmtUnfSF'].mean())\n",
    "df['TotalBsmtSF'] = df['TotalBsmtSF'].fillna(df['TotalBsmtSF'].mean())"
   ]
  },
  {
   "cell_type": "code",
   "execution_count": null,
   "id": "224d959d-9ccc-4f39-a64f-bc7b9906e67a",
   "metadata": {},
   "outputs": [],
   "source": [
    "df['Electrical'] = df['Electrical'].fillna('SBrkr')"
   ]
  },
  {
   "cell_type": "code",
   "execution_count": null,
   "id": "8da7fe33-00a4-4e9c-a6ad-923e82e05fd7",
   "metadata": {},
   "outputs": [],
   "source": [
    "df['BsmtFullBath'] = df['BsmtFullBath'].fillna(0)\n",
    "df['BsmtHalfBath'] = df['BsmtHalfBath'].fillna(0)"
   ]
  },
  {
   "cell_type": "code",
   "execution_count": null,
   "id": "0532fd39-7a1e-4ecb-9999-9706d502c8ea",
   "metadata": {},
   "outputs": [],
   "source": [
    "df['KitchenQual'] = df['KitchenQual'].fillna('TA')"
   ]
  },
  {
   "cell_type": "code",
   "execution_count": null,
   "id": "43e56212-a2ae-457e-b92b-f7858c0a6857",
   "metadata": {},
   "outputs": [],
   "source": [
    "df['Functional'] = df['Functional'].fillna('Typ')"
   ]
  },
  {
   "cell_type": "code",
   "execution_count": null,
   "id": "004c0dce-a6d6-4d3e-90ab-4400128f216d",
   "metadata": {},
   "outputs": [],
   "source": [
    "df.loc[df['GarageArea'] == 0, 'GarageType'] = 'NA'\n",
    "df.loc[df['GarageArea'] == 0, 'GarageYrBlt'] = 1978 # ???\n",
    "df.loc[df['GarageArea'] == 0, 'GarageFinish'] = 'NA'\n",
    "df.loc[df['GarageArea'] == 0, 'GarageCars'] = 0\n",
    "df.loc[df['GarageArea'] == 0, 'GarageQual'] = 'NA'\n",
    "df.loc[df['GarageArea'] == 0, 'GarageCond'] = 'NA'\n",
    "\n",
    "df['GarageArea'] = df['GarageArea'].fillna(473)\n",
    "df['GarageCars'] = df['GarageCars'].fillna(2)\n",
    "df['GarageYrBlt'] = df['GarageYrBlt'].fillna(1978)\n",
    "df['GarageFinish'] = df['GarageFinish'].fillna('Unf')\n",
    "df['GarageQual'] = df['GarageQual'].fillna('TA')\n",
    "df['GarageCond'] = df['GarageCond'].fillna('TA')"
   ]
  },
  {
   "cell_type": "code",
   "execution_count": null,
   "id": "3f54db29-25ac-4508-9f87-553effd4c82c",
   "metadata": {},
   "outputs": [],
   "source": [
    "df.loc[df['PoolArea'] == 0, 'PoolQC'] = 'NA'\n",
    "df['PoolQC'] = df['PoolQC'].fillna('Gd')"
   ]
  },
  {
   "cell_type": "code",
   "execution_count": null,
   "id": "acf485e2-b893-45b7-b93d-940dff5ce4c9",
   "metadata": {},
   "outputs": [],
   "source": [
    "df['Fence'] = df['Fence'].fillna('NA')"
   ]
  },
  {
   "cell_type": "code",
   "execution_count": null,
   "id": "4d2121f3-d25a-46b9-be4a-b62c5b9c2586",
   "metadata": {},
   "outputs": [],
   "source": [
    "df['MiscFeature'] = df['MiscFeature'].fillna('NA')"
   ]
  },
  {
   "cell_type": "code",
   "execution_count": null,
   "id": "f20f4166-6a99-4bf0-b035-239d91c9b236",
   "metadata": {},
   "outputs": [],
   "source": [
    "df['SaleType'] = df['SaleType'].fillna('WD')"
   ]
  },
  {
   "cell_type": "markdown",
   "id": "6d8c2ad0-7a64-476a-9cff-c6c920a81f8d",
   "metadata": {},
   "source": [
    "Смотрим сколько неизвестных значений у нас в данных."
   ]
  },
  {
   "cell_type": "code",
   "execution_count": null,
   "id": "f625786e-2c71-4012-bc1f-fe441afce455",
   "metadata": {},
   "outputs": [],
   "source": [
    "for col in df.columns:\n",
    "    print(f'{col} = {df[col].isna().sum()}, {round(df[col].isna().sum() / len(df[col]) * 100, 3)}%')"
   ]
  },
  {
   "cell_type": "code",
   "execution_count": null,
   "id": "561c884c-6b33-4432-9d0e-79149d5c2c45",
   "metadata": {},
   "outputs": [],
   "source": [
    "df[df['LotFrontage'] != df['Electrical']]"
   ]
  },
  {
   "cell_type": "code",
   "execution_count": null,
   "id": "a07b3eab-5b76-4c2e-bb1f-772edf93d944",
   "metadata": {},
   "outputs": [],
   "source": [
    "display(df['MiscFeature'].value_counts())"
   ]
  },
  {
   "cell_type": "code",
   "execution_count": null,
   "id": "b5d2b7ef-7d06-4d25-9ee0-05b310c17fab",
   "metadata": {},
   "outputs": [],
   "source": [
    "display(sns.histplot(df['SaleType']))"
   ]
  },
  {
   "cell_type": "code",
   "execution_count": null,
   "id": "8ceb1256-c417-4308-8b70-0afcd4d165e2",
   "metadata": {},
   "outputs": [],
   "source": [
    "display(sns.histplot(df['BsmtFinType2']))"
   ]
  },
  {
   "cell_type": "code",
   "execution_count": null,
   "id": "45945bec-8ee1-4f22-9919-4d1c5d7bd254",
   "metadata": {},
   "outputs": [],
   "source": [
    "df['GarageArea'].mean()"
   ]
  },
  {
   "cell_type": "code",
   "execution_count": null,
   "id": "3a2f945a-f689-4341-8884-5c7518fca0d3",
   "metadata": {},
   "outputs": [],
   "source": [
    "get_test(df)[get_test(df)['BsmtFinType1'] != get_test(df)['BsmtFinType1']]"
   ]
  },
  {
   "cell_type": "code",
   "execution_count": null,
   "id": "b93f55a7-02b1-4f28-a1d8-0d441e96454d",
   "metadata": {},
   "outputs": [],
   "source": [
    "df_test"
   ]
  },
  {
   "cell_type": "code",
   "execution_count": null,
   "id": "82108160-3c33-4905-9556-6e3cc24656a2",
   "metadata": {},
   "outputs": [],
   "source": [
    "categorical_features = []\n",
    "for el in df.columns:\n",
    "    if df[el].dtype.name == 'object':\n",
    "        categorical_features.append(el)"
   ]
  },
  {
   "cell_type": "code",
   "execution_count": null,
   "id": "462aa38f-c29a-406c-9ca9-6a0049ad7219",
   "metadata": {},
   "outputs": [],
   "source": [
    "categorical_features"
   ]
  },
  {
   "cell_type": "code",
   "execution_count": null,
   "id": "ab0628ca-9080-4030-ae64-e8bd403bb856",
   "metadata": {},
   "outputs": [],
   "source": [
    "df_train = get_train(df)\n",
    "df_test = get_test(df)"
   ]
  },
  {
   "cell_type": "code",
   "execution_count": null,
   "id": "72a7fcc3-1154-40ea-861d-1731ceda8160",
   "metadata": {},
   "outputs": [],
   "source": [
    "X = df_train.drop(columns=['Id', 'SalePrice'])\n",
    "y = df_train['SalePrice']"
   ]
  },
  {
   "cell_type": "code",
   "execution_count": null,
   "id": "cce721aa-fe05-4cd5-862a-84411f54d149",
   "metadata": {},
   "outputs": [],
   "source": [
    "from catboost import CatBoostRegressor\n",
    "from sklearn.model_selection import train_test_split\n",
    "\n",
    "X_train, X_test, y_train, y_test = train_test_split(X, y, test_size=0.2, random_state=228)\n",
    "\n",
    "model = CatBoostRegressor(eval_metric='RMSE', random_seed=228, cat_features=categorical_features, n_estimators = 100000)\n",
    "model.fit(X_train, y_train, eval_set=(X_test, y_test), verbose=100, cat_features=categorical_features, early_stopping_rounds=10000)"
   ]
  },
  {
   "cell_type": "code",
   "execution_count": null,
   "id": "c3235176-8663-4dd7-a71c-4c0f0cc8fec9",
   "metadata": {},
   "outputs": [],
   "source": [
    "df_test"
   ]
  },
  {
   "cell_type": "code",
   "execution_count": null,
   "id": "6479beef-537c-4fdb-8c21-5b9414df71cc",
   "metadata": {},
   "outputs": [],
   "source": [
    "CatBoost_y_pred = model.predict(df_test.drop(columns=['Id', 'SalePrice']))\n",
    "len(CatBoost_y_pred)"
   ]
  },
  {
   "cell_type": "code",
   "execution_count": null,
   "id": "c2be0f3d-7488-4aa6-bb3f-5a1ef5d8e709",
   "metadata": {},
   "outputs": [],
   "source": [
    "submission = pd.DataFrame({\n",
    "        \"Id\": df_test[\"Id\"],\n",
    "        \"SalePrice\": CatBoost_y_pred\n",
    "    })\n",
    "submission.to_csv('submission.csv', index=False)"
   ]
  },
  {
   "cell_type": "code",
   "execution_count": null,
   "id": "3a21fbae-7d33-4bc9-8cfc-7791cafae9df",
   "metadata": {},
   "outputs": [],
   "source": []
  }
 ],
 "metadata": {
  "kernelspec": {
   "display_name": "Python 3 (ipykernel)",
   "language": "python",
   "name": "python3"
  },
  "language_info": {
   "codemirror_mode": {
    "name": "ipython",
    "version": 3
   },
   "file_extension": ".py",
   "mimetype": "text/x-python",
   "name": "python",
   "nbconvert_exporter": "python",
   "pygments_lexer": "ipython3",
   "version": "3.11.7"
  }
 },
 "nbformat": 4,
 "nbformat_minor": 5
}
